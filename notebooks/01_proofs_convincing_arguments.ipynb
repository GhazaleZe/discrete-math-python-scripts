{
 "cells": [
  {
   "cell_type": "markdown",
   "metadata": {},
   "source": [
    "There will be some introductory words here..."
   ]
  },
  {
   "cell_type": "markdown",
   "metadata": {},
   "source": [
    "### Existential Statements in Number Theory"
   ]
  },
  {
   "cell_type": "markdown",
   "metadata": {},
   "source": [
    "**Problem.** Is there a positive integer that is divisible by $13$ and ends with $15$?"
   ]
  },
  {
   "cell_type": "markdown",
   "metadata": {},
   "source": [
    "To prove that such a number exists, it is enough to give a single example. One such example is $715$: it ends with $15$ and it is divisible by $13$ ($715=13\\cdot 55$). This already proves the existence, and we don't even need to explain how we have found this integer. Still, the following three lines of code help to find all such integers in the range $[0, 9\\,999]$. "
   ]
  },
  {
   "cell_type": "code",
   "execution_count": null,
   "metadata": {},
   "outputs": [],
   "source": [
    "for n in range(10 ** 4):\n",
    "    if n % 13 == 0 and n % 100 == 15:\n",
    "        print(n)"
   ]
  },
  {
   "cell_type": "markdown",
   "metadata": {},
   "source": [
    "This program tries all numbers in $\\texttt{range(10 ** 4)}$. Here, $\\texttt{10 ** 4}$ stands for $10^4=10\\,000$. In $\\texttt{python}$, $\\texttt{range(N)}$ where $N$ is some non-negative number is \n",
    "a *list* (sequence) of $\\texttt{N}$ numbers $0,1,2,\\ldots,\\texttt{N}-1$. The $\\texttt{for}$ loop tries all of them in this order; the $\\texttt{if}$ operator checks whether they have the required properties. The last two digits of an integer $\\texttt{n}$ can be computed as $\\texttt{n % 100}$. In general, $\\texttt{n % m}$ denotes the *remainder* when dividing $\\texttt{n}$ by $\\texttt{m}$. (Imagine we have $n$ identical books on the table and pack them into boxes that contain $m$ books each. Then $n\\,\\%\\,m$ books *remain* unpacked.)"
   ]
  },
  {
   "cell_type": "markdown",
   "metadata": {},
   "source": [
    "**Problem.** Find a two-digit (positive) integer that becomes 7 times smaller when its first (=leftmost) digit is removed.\n",
    "\n",
    "Let's try. Consider all two-digit integers that are divisible by 7:\n",
    "$$\n",
    "14,\\, 21,\\, 28,\\, 35,\\, 42,\\, 49,\\, 56,\\, 63,\\, 70,\\, 77,\\, 84,\\, 91,\\, 98.\n",
    "$$\n",
    "We know that dividing the required integer by $7$ should result in a single digit integer. This allows us to rule out all numbers starting from $70$ from the list. We can then check manually that out of the remaining numbers the only one satisfying the required property is $35$. \n",
    "\n",
    "The argument above is simple, but still some reasoning is needed. One could use a brute force search instead."
   ]
  },
  {
   "cell_type": "code",
   "execution_count": null,
   "metadata": {},
   "outputs": [],
   "source": [
    "for n in range(10, 100):\n",
    "    if n == 7 * int(str(n)[1:]):\n",
    "        print(n)"
   ]
  },
  {
   "cell_type": "markdown",
   "metadata": {},
   "source": [
    "This code goes through all integers in the range $[10,99]$. In general, $\\texttt{range(a, b)}$ where $\\texttt{a}\\le\\texttt{b}$ are integers, denotes a list that contains $\\texttt{a},\\texttt{a+1},\\ldots,\\texttt{b-1}$ (empty if $\\texttt{a}=\\texttt{b}$). To remove the first digit of a number, we convert it to a string \n",
    "(by calling the $\\texttt{str()}$ function), then use slicing ($\\texttt{[1:]}$) to remove the first symbol \n",
    "of the resulting string, and finally convert the resulting string back to an integer."
   ]
  },
  {
   "cell_type": "code",
   "execution_count": null,
   "metadata": {},
   "outputs": [],
   "source": []
  }
 ],
 "metadata": {
  "kernelspec": {
   "display_name": "Python 3",
   "language": "python",
   "name": "python3"
  },
  "language_info": {
   "codemirror_mode": {
    "name": "ipython",
    "version": 3
   },
   "file_extension": ".py",
   "mimetype": "text/x-python",
   "name": "python",
   "nbconvert_exporter": "python",
   "pygments_lexer": "ipython3",
   "version": "3.7.4"
  }
 },
 "nbformat": 4,
 "nbformat_minor": 2
}
